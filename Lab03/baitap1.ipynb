{
 "cells": [
  {
   "cell_type": "code",
   "execution_count": 1,
   "metadata": {},
   "outputs": [],
   "source": [
    "import pandas as pd\n",
    "from bs4 import BeautifulSoup\n",
    "\n",
    "from selenium import webdriver\n",
    "from selenium.webdriver.chrome.options import Options\n",
    "from selenium.webdriver.chrome.service import Service\n",
    "from webdriver_manager.chrome import ChromeDriverManager\n",
    "\n",
    "from termcolor import colored"
   ]
  },
  {
   "cell_type": "code",
   "execution_count": 2,
   "metadata": {},
   "outputs": [],
   "source": [
    "options = Options()\n",
    "options.add_experimental_option('detach', True)\n",
    "options.add_argument('headless')\n",
    "\n",
    "driver = webdriver.Chrome(service=Service(ChromeDriverManager().install()), options=options)\n",
    "\n",
    "driver.get('https://www.worldometers.info/coronavirus/#countries')\n",
    "\n",
    "soup = BeautifulSoup(driver.page_source, 'html.parser')\n",
    "table = soup.find(\"table\", id=\"main_table_countries_today\")\n",
    "\n",
    "df = pd.read_html(str(table), index_col=0)[0]\n",
    "df = df.reset_index(drop=True)\n",
    "df = df.drop(index=df.iloc[0].name)\n",
    "df = df.drop(index=df.iloc[-1].name)\n",
    "driver.quit()"
   ]
  },
  {
   "attachments": {},
   "cell_type": "markdown",
   "metadata": {},
   "source": [
    "### Tìm 5 quốc gia có số ca nhiễm nhiều nhất"
   ]
  },
  {
   "cell_type": "code",
   "execution_count": 3,
   "metadata": {},
   "outputs": [
    {
     "name": "stdout",
     "output_type": "stream",
     "text": [
      "5 Quoc Gia co \u001b[34mSo ca nhiem \u001b[0mnhieu nhat: \u001b[32mUSA, India, France, Germany, Brazil\u001b[0m\n"
     ]
    }
   ],
   "source": [
    "top5_total_case = list(df.sort_values(by=['Total Cases'], ascending=False).head(5)['Country, Other'].values)\n",
    "print(\"5 Quoc Gia co \", end=\"\")\n",
    "print(colored(\"So ca nhiem \", 'blue'), end=\"\")\n",
    "print(\"nhieu nhat: \", end=\"\")\n",
    "print(colored(\", \".join(top5_total_case), \"green\"))"
   ]
  },
  {
   "attachments": {},
   "cell_type": "markdown",
   "metadata": {},
   "source": [
    "### Quốc gia nào có số ca nhiếm mới cao nhất"
   ]
  },
  {
   "cell_type": "code",
   "execution_count": 4,
   "metadata": {},
   "outputs": [
    {
     "name": "stdout",
     "output_type": "stream",
     "text": [
      "Quoc Gia co \u001b[34mSo ca nhiem moi \u001b[0mcao nhat: \u001b[32mS. Korea\u001b[0m\n"
     ]
    }
   ],
   "source": [
    "print(\"Quoc Gia co \", end=\"\")\n",
    "print(colored(\"So ca nhiem moi \", 'blue'), end=\"\")\n",
    "print(\"cao nhat: \", end=\"\")\n",
    "print(colored(df[df[\"New Cases\"] == df['New Cases'].max()]['Country, Other'].values[0], 'green'))"
   ]
  },
  {
   "attachments": {},
   "cell_type": "markdown",
   "metadata": {},
   "source": [
    "### Xác định 3 quốc gia có tỉ lệ bình phục trên tổng số ca nhiễm cao nhất"
   ]
  },
  {
   "cell_type": "code",
   "execution_count": 5,
   "metadata": {},
   "outputs": [
    {
     "name": "stdout",
     "output_type": "stream",
     "text": [
      "3 Quoc Gia \u001b[34mti le hoi phuc \u001b[0mcao nhat: \u001b[32mFalkland Islands, Vatican City, DPRK\u001b[0m\n"
     ]
    }
   ],
   "source": [
    "df['ratio'] = df['Total Recovered'] / df['Total Cases']\n",
    "top3_ratio = list(df.sort_values(by=['ratio'], ascending=False).head(3)['Country, Other'].values)\n",
    "print(\"3 Quoc Gia \", end=\"\")\n",
    "print(colored(\"ti le hoi phuc \", 'blue'), end=\"\")\n",
    "print(\"cao nhat: \", end=\"\")\n",
    "print(colored(\", \".join(top3_ratio), \"green\"))"
   ]
  }
 ],
 "metadata": {
  "kernelspec": {
   "display_name": "torch",
   "language": "python",
   "name": "python3"
  },
  "language_info": {
   "codemirror_mode": {
    "name": "ipython",
    "version": 3
   },
   "file_extension": ".py",
   "mimetype": "text/x-python",
   "name": "python",
   "nbconvert_exporter": "python",
   "pygments_lexer": "ipython3",
   "version": "3.10.6"
  },
  "orig_nbformat": 4
 },
 "nbformat": 4,
 "nbformat_minor": 2
}
